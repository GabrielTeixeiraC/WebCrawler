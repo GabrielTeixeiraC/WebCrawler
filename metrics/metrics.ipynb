{
 "cells": [
  {
   "cell_type": "code",
   "execution_count": 4,
   "id": "05d3d900",
   "metadata": {},
   "outputs": [],
   "source": [
    "import os\n",
    "import json\n",
    "import glob\n",
    "import numpy as np\n",
    "import hashlib\n",
    "from urllib.parse import urlparse\n",
    "from collections import Counter, defaultdict\n",
    "from warcio.archiveiterator import ArchiveIterator\n",
    "from tqdm import tqdm\n",
    "import matplotlib.pyplot as plt\n",
    "import nltk"
   ]
  },
  {
   "cell_type": "code",
   "execution_count": null,
   "id": "dbaa2650",
   "metadata": {},
   "outputs": [
    {
     "name": "stderr",
     "output_type": "stream",
     "text": [
      "[nltk_data] Downloading package punkt to /home/gabriel/nltk_data...\n",
      "[nltk_data]   Package punkt is already up-to-date!\n",
      "[nltk_data] Downloading package stopwords to\n",
      "[nltk_data]     /home/gabriel/nltk_data...\n",
      "[nltk_data]   Package stopwords is already up-to-date!\n",
      "[nltk_data] Downloading package punkt_tab to\n",
      "[nltk_data]     /home/gabriel/nltk_data...\n",
      "[nltk_data]   Package punkt_tab is already up-to-date!\n"
     ]
    }
   ],
   "source": [
    "nltk.download('punkt')  # Download tokenization resources\n",
    "nltk.download('punkt_tab')\n",
    "from nltk.tokenize import word_tokenize"
   ]
  },
  {
   "cell_type": "code",
   "execution_count": null,
   "id": "8ad492f6",
   "metadata": {},
   "outputs": [],
   "source": [
    "JSONL_PATH = \"../backup/log.jsonl\"\n",
    "WARC_FOLDER = \"corpus\""
   ]
  },
  {
   "cell_type": "code",
   "execution_count": null,
   "id": "f96a92f3",
   "metadata": {},
   "outputs": [],
   "source": [
    "domain_counter = Counter()\n",
    "page_sizes_bytes = []\n",
    "page_token_counts = []\n",
    "fetch_timestamps = []"
   ]
  },
  {
   "cell_type": "code",
   "execution_count": null,
   "id": "c7f21d9e",
   "metadata": {},
   "outputs": [],
   "source": [
    "def get_domain(url):\n",
    "    try:\n",
    "        parsed = urlparse(url)\n",
    "        return parsed.netloc.lower()\n",
    "    except Exception:\n",
    "        return None\n",
    "\n",
    "def clean_html(raw_html):\n",
    "    import re\n",
    "    cleanr = re.compile('<.*?>')\n",
    "    cleantext = re.sub(cleanr, '', raw_html)\n",
    "    return cleantext"
   ]
  },
  {
   "cell_type": "code",
   "execution_count": 14,
   "id": "08f951bd",
   "metadata": {},
   "outputs": [
    {
     "name": "stdout",
     "output_type": "stream",
     "text": [
      "Analyzing JSONL metadata...\n",
      "Found 1319 unique domains.\n",
      "Found 100094 total pages.\n"
     ]
    }
   ],
   "source": [
    "print(\"Analyzing JSONL metadata...\")\n",
    "\n",
    "with open(JSONL_PATH, 'r', encoding='utf-8') as f:\n",
    "    for line in f:\n",
    "        try:\n",
    "            data = json.loads(line)\n",
    "            url = data.get('URL')\n",
    "            timestamp = data.get('Timestamp')\n",
    "            if url and timestamp:\n",
    "                domain = get_domain(url)\n",
    "                if domain:\n",
    "                    domain_counter[domain] += 1\n",
    "                fetch_timestamps.append(timestamp)\n",
    "        except json.JSONDecodeError:\n",
    "            continue\n",
    "\n",
    "print(f\"Found {len(domain_counter)} unique domains.\")\n",
    "print(f\"Found {len(fetch_timestamps)} total pages.\")"
   ]
  },
  {
   "cell_type": "code",
   "execution_count": null,
   "id": "1669cb6d",
   "metadata": {},
   "outputs": [
    {
     "name": "stdout",
     "output_type": "stream",
     "text": [
      "Analyzing WARC files...\n"
     ]
    },
    {
     "name": "stderr",
     "output_type": "stream",
     "text": [
      "Processing WARC files: 100%|██████████| 101/101 [25:25<00:00, 15.11s/it]"
     ]
    },
    {
     "name": "stdout",
     "output_type": "stream",
     "text": [
      "Collected 100095 page sizes (bytes).\n",
      "Collected 100094 page token counts.\n"
     ]
    },
    {
     "name": "stderr",
     "output_type": "stream",
     "text": [
      "\n"
     ]
    }
   ],
   "source": [
    "print(\"Analyzing WARC files...\")\n",
    "\n",
    "warc_files = glob.glob(os.path.join(WARC_FOLDER, \"*.warc.gz\"))\n",
    "\n",
    "import random\n",
    "random.seed(42)  \n",
    "\n",
    "for warc_path in tqdm(warc_files, desc=\"Processing WARC files\"):\n",
    "  with open(warc_path, 'rb') as stream:\n",
    "    for record in tqdm(ArchiveIterator(stream), desc=f\"Processing records in {os.path.basename(warc_path)}\", leave=False):\n",
    "      if record.rec_type != 'response':\n",
    "        continue\n",
    "\n",
    "      payload = record.content_stream().read()\n",
    "      html_size = len(payload)\n",
    "      page_sizes_bytes.append(html_size)\n",
    "\n",
    "      try:\n",
    "        text = payload.decode('utf-8', errors='ignore')\n",
    "        clean_text = clean_html(text)\n",
    "        tokens = word_tokenize(clean_text)\n",
    "        page_token_counts.append(len(tokens))\n",
    "      except Exception:\n",
    "        continue\n",
    "\n",
    "print(f\"Collected {len(page_sizes_bytes)} page sizes (bytes).\")\n",
    "print(f\"Collected {len(page_token_counts)} page token counts.\")\n"
   ]
  },
  {
   "cell_type": "code",
   "execution_count": null,
   "id": "d7533aa1",
   "metadata": {},
   "outputs": [
    {
     "name": "stdout",
     "output_type": "stream",
     "text": [
      "Computing final metrics...\n",
      "Total crawl time (seconds): 15076\n",
      "Average download rate (pages/sec): 6.64\n"
     ]
    }
   ],
   "source": [
    "print(\"Computing final metrics...\")\n",
    "\n",
    "total_time_seconds = max(fetch_timestamps) - min(fetch_timestamps)\n",
    "download_rate = len(fetch_timestamps) / total_time_seconds if total_time_seconds > 0 else 0\n",
    "\n",
    "print(f\"Total crawl time (seconds): {total_time_seconds}\")\n",
    "print(f\"Average download rate (pages/sec): {download_rate:.2f}\")\n"
   ]
  },
  {
   "cell_type": "code",
   "execution_count": 16,
   "id": "d250e043",
   "metadata": {},
   "outputs": [
    {
     "name": "stdout",
     "output_type": "stream",
     "text": [
      "75.88627748294162\n"
     ]
    },
    {
     "data": {
      "image/png": "[encoded data removed]",
      "text/plain": [
       "<Figure size 1000x600 with 1 Axes>"
      ]
     },
     "metadata": {},
     "output_type": "display_data"
    }
   ],
   "source": [
    "bins = np.logspace(np.log10(1), np.log10(max(domain_counter.values())), 50)\n",
    "\n",
    "plt.figure(figsize=(10,6))\n",
    "plt.hist(domain_counter.values(), bins=bins)\n",
    "plt.xscale('log')\n",
    "plt.yscale('log')\n",
    "plt.xlabel('Number of pages per domain')\n",
    "plt.ylabel('Number of domains (log scale)')\n",
    "plt.title('Distribution of Pages per Domain')\n",
    "\n",
    "\n",
    "print(sum(domain_counter.values()) / len(domain_counter))"
   ]
  },
  {
   "cell_type": "code",
   "execution_count": null,
   "id": "f8d5f409",
   "metadata": {},
   "outputs": [
    {
     "data": {
      "text/plain": [
       "Text(0.5, 1.0, 'Distribution of Page Sizes (Bytes)')"
      ]
     },
     "execution_count": 17,
     "metadata": {},
     "output_type": "execute_result"
    },
    {
     "data": {
      "image/png": "[encoded data removed]",
      "text/plain": [
       "<Figure size 1000x600 with 1 Axes>"
      ]
     },
     "metadata": {},
     "output_type": "display_data"
    }
   ],
   "source": [
    "\n",
    "plt.figure(figsize=(10,6))\n",
    "plt.hist(page_sizes_bytes, bins=100, log=True)\n",
    "plt.xlabel('Page size (bytes)')\n",
    "plt.ylabel('Number of pages (log scale)')\n",
    "plt.title('Distribution of Page Sizes (Bytes)')\n",
    "\n"
   ]
  },
  {
   "cell_type": "code",
   "execution_count": null,
   "id": "88483809",
   "metadata": {},
   "outputs": [
    {
     "ename": "NameError",
     "evalue": "name 'page_token_counts' is not defined",
     "output_type": "error",
     "traceback": [
      "\u001b[31m---------------------------------------------------------------------------\u001b[39m",
      "\u001b[31mNameError\u001b[39m                                 Traceback (most recent call last)",
      "\u001b[36mCell\u001b[39m\u001b[36m \u001b[39m\u001b[32mIn[3]\u001b[39m\u001b[32m, line 2\u001b[39m\n\u001b[32m      1\u001b[39m \u001b[38;5;66;03m# Log-spaced bins\u001b[39;00m\n\u001b[32m----> \u001b[39m\u001b[32m2\u001b[39m bins = np.logspace(np.log10(\u001b[32m1\u001b[39m), np.log10(\u001b[38;5;28mmax\u001b[39m(\u001b[43mpage_token_counts\u001b[49m)), \u001b[32m100\u001b[39m)\n\u001b[32m      4\u001b[39m plt.figure(figsize=(\u001b[32m10\u001b[39m,\u001b[32m6\u001b[39m))\n\u001b[32m      5\u001b[39m plt.hist(page_token_counts, bins=bins)\n",
      "\u001b[31mNameError\u001b[39m: name 'page_token_counts' is not defined"
     ]
    }
   ],
   "source": [
    "bins = np.logspace(np.log10(1), np.log10(max(page_token_counts)), 100)\n",
    "\n",
    "plt.figure(figsize=(10,6))\n",
    "plt.hist(page_token_counts, bins=bins)\n",
    "plt.xscale('log')\n",
    "plt.yscale('log')\n",
    "plt.xlabel('Number of tokens per page (log scale)')\n",
    "plt.ylabel('Number of pages (log scale)')\n",
    "plt.title('Distribution of Tokens per Page')\n",
    "plt.show()"
   ]
  },
  {
   "cell_type": "code",
   "execution_count": null,
   "id": "f07e97aa",
   "metadata": {},
   "outputs": [
    {
     "name": "stdout",
     "output_type": "stream",
     "text": [
      "Calculating the number of out-links per page...\n"
     ]
    },
    {
     "name": "stderr",
     "output_type": "stream",
     "text": [
      "Processing WARC files:  51%|█████▏    | 52/101 [1:03:06<1:09:54, 85.60s/it]/tmp/ipykernel_119459/52036484.py:18: XMLParsedAsHTMLWarning: It looks like you're using an HTML parser to parse an XML document.\n",
      "\n",
      "Assuming this really is an XML document, what you're doing might work, but you should know that using an XML parser will be more reliable. To parse this document as XML, make sure you have the Python package 'lxml' installed, and pass the keyword argument `features=\"xml\"` into the BeautifulSoup constructor.\n",
      "\n",
      "If you want or need to use an HTML parser on this document, you can make this warning go away by filtering it. To do that, run this code before calling the BeautifulSoup constructor:\n",
      "\n",
      "    from bs4 import XMLParsedAsHTMLWarning\n",
      "    import warnings\n",
      "\n",
      "    warnings.filterwarnings(\"ignore\", category=XMLParsedAsHTMLWarning)\n",
      "\n",
      "  soup = BeautifulSoup(html_content, 'html.parser')\n",
      "Processing WARC files: 100%|██████████| 101/101 [2:07:53<00:00, 75.97s/it] "
     ]
    },
    {
     "name": "stdout",
     "output_type": "stream",
     "text": [
      "Collected out-links for 100094 pages.\n"
     ]
    },
    {
     "name": "stderr",
     "output_type": "stream",
     "text": [
      "\n"
     ]
    }
   ],
   "source": [
    "from bs4 import BeautifulSoup\n",
    "\n",
    "out_links_per_page = []\n",
    "\n",
    "print(\"Calculating the number of out-links per page...\")\n",
    "\n",
    "for warc_path in tqdm(warc_files, desc=\"Processing WARC files\"):\n",
    "  with open(warc_path, 'rb') as stream:\n",
    "    for record in tqdm(ArchiveIterator(stream), desc=f\"Processing records in {os.path.basename(warc_path)}\", leave=False):\n",
    "      if record.rec_type != 'response':\n",
    "        continue\n",
    "\n",
    "      payload = record.content_stream().read()\n",
    "\n",
    "      try:\n",
    "        html_content = payload.decode('utf-8', errors='ignore')\n",
    "        soup = BeautifulSoup(html_content, 'html.parser')\n",
    "        out_links = soup.find_all('a', href=True)\n",
    "        out_links_per_page.append(len(out_links))\n",
    "      except Exception:\n",
    "        out_links_per_page.append(0)  # If parsing fails, assume 0 out-links\n",
    "\n",
    "print(f\"Collected out-links for {len(out_links_per_page)} pages.\")\n"
   ]
  },
  {
   "cell_type": "code",
   "execution_count": null,
   "id": "ada916c4",
   "metadata": {},
   "outputs": [
    {
     "name": "stdout",
     "output_type": "stream",
     "text": [
      "\n",
      "===== Summary =====\n",
      "Unique domains: 1319\n",
      "Total pages: 100094\n",
      "Avg download rate: 6.64 pages/sec\n",
      "Avg page size: 243521.24 bytes\n",
      "Avg tokens per page: 3082.45 tokens\n",
      "Most common domains: [('www1.folha.uol.com.br', 52497), ('www.uol.com.br', 9030), ('brasilescola.uol.com.br', 5283), ('exercicios.brasilescola.uol.com.br', 2960), ('mundoeducacao.uol.com.br', 2544), ('escolakids.uol.com.br', 2497), ('f5.folha.uol.com.br', 2460), ('vestibular.brasilescola.uol.com.br', 1931), ('exercicios.mundoeducacao.uol.com.br', 1723), ('economia.uol.com.br', 1367)]\n",
      "Avg out-links per page: 360.31 links\n"
     ]
    }
   ],
   "source": [
    "print(\"\\n===== Summary =====\")\n",
    "print(f\"Unique domains: {len(domain_counter)}\")\n",
    "print(f\"Total pages: {len(fetch_timestamps)}\")\n",
    "print(f\"Avg download rate: {download_rate:.2f} pages/sec\")\n",
    "print(f\"Avg page size: {sum(page_sizes_bytes)/len(page_sizes_bytes):.2f} bytes\")\n",
    "print(f\"Avg tokens per page: {sum(page_token_counts)/len(page_token_counts):.2f} tokens\")\n",
    "print(f\"Most common domains: {domain_counter.most_common(10)}\")\n",
    "print(f\"Avg out-links per page: {sum(out_links_per_page)/len(out_links_per_page):.2f} links\")"
   ]
  },
  {
   "cell_type": "code",
   "execution_count": null,
   "id": "70c84c7a",
   "metadata": {},
   "outputs": [
    {
     "data": {
      "image/png": "[encoded data removed]",
      "text/plain": [
       "<Figure size 1000x600 with 1 Axes>"
      ]
     },
     "metadata": {},
     "output_type": "display_data"
    }
   ],
   "source": [
    "# Log-spaced bins\n",
    "bins = np.logspace(np.log10(1), np.log10(max(out_links_per_page)), 50)\n",
    "\n",
    "plt.figure(figsize=(10,6))\n",
    "plt.hist(out_links_per_page, bins=bins)\n",
    "plt.xscale('log')\n",
    "plt.yscale('log')\n",
    "plt.xlabel('Number of out-links per page (log scale)')\n",
    "plt.ylabel('Number of pages (log scale)')\n",
    "plt.title('Distribution of Out-links per Page')\n",
    "plt.show()"
   ]
  },
  {
   "cell_type": "code",
   "execution_count": null,
   "id": "6229e44c",
   "metadata": {},
   "outputs": [
    {
     "name": "stderr",
     "output_type": "stream",
     "text": [
      "                                                      \r"
     ]
    },
    {
     "name": "stdout",
     "output_type": "stream",
     "text": [
      "1157 1323\n"
     ]
    },
    {
     "name": "stderr",
     "output_type": "stream",
     "text": [
      "                                                        \r"
     ]
    },
    {
     "name": "stdout",
     "output_type": "stream",
     "text": [
      "2009 304\n"
     ]
    },
    {
     "name": "stderr",
     "output_type": "stream",
     "text": [
      "                                                        \r"
     ]
    },
    {
     "name": "stdout",
     "output_type": "stream",
     "text": [
      "2013 359\n"
     ]
    },
    {
     "name": "stderr",
     "output_type": "stream",
     "text": [
      "                                                        \r"
     ]
    },
    {
     "name": "stdout",
     "output_type": "stream",
     "text": [
      "2049 276\n"
     ]
    },
    {
     "name": "stderr",
     "output_type": "stream",
     "text": [
      "                                                         \r"
     ]
    },
    {
     "name": "stdout",
     "output_type": "stream",
     "text": [
      "2086 277\n"
     ]
    },
    {
     "name": "stderr",
     "output_type": "stream",
     "text": [
      "                                                         \r"
     ]
    },
    {
     "name": "stdout",
     "output_type": "stream",
     "text": [
      "2198 301\n"
     ]
    },
    {
     "name": "stderr",
     "output_type": "stream",
     "text": [
      "                                                         "
     ]
    },
    {
     "name": "stdout",
     "output_type": "stream",
     "text": [
      "2499 347\n",
      "Average network rates for folders ['./1thread', './10threads', './25threads', './50threads', './100threads', './200threads', './500threads']: [0.8745275888133031, 6.608552631578948, 5.607242339832869, 7.423913043478261, 7.530685920577618, 7.3023255813953485, 7.2017291066282425]\n"
     ]
    },
    {
     "name": "stderr",
     "output_type": "stream",
     "text": [
      "\r"
     ]
    }
   ],
   "source": [
    "folders = [\"./1thread\", \"./10threads\", \"./25threads\", \"./50threads\", \"./100threads\", \"./200threads\", \"./500threads\"]\n",
    "average_network_rates = []\n",
    "for folder in folders:\n",
    "  fetch_timestamps = []\n",
    "  jsonl_path = os.path.join(folder, \"tmp\", \"log.jsonl\")\n",
    "  if os.path.exists(jsonl_path):\n",
    "    with open(jsonl_path, 'r', encoding='utf-8') as f:\n",
    "      for line in tqdm(f, desc=f\"Processing {jsonl_path}\", leave=False):\n",
    "        try:\n",
    "          data = json.loads(line)\n",
    "          url = data.get('URL')\n",
    "          timestamp = data.get('Timestamp')\n",
    "          if url and timestamp:\n",
    "            fetch_timestamps.append(timestamp)\n",
    "        except json.JSONDecodeError:\n",
    "          continue\n",
    "  total_time_seconds = max(fetch_timestamps) - min(fetch_timestamps)\n",
    "  if total_time_seconds > 0:\n",
    "    print(len(fetch_timestamps), total_time_seconds)\n",
    "    average_network_rate = len(fetch_timestamps) / total_time_seconds\n",
    "    average_network_rates.append(average_network_rate)\n",
    "\n",
    "print(f\"Average network rates for folders {folders}: {average_network_rates}\")"
   ]
  }
 ],
 "metadata": {
  "kernelspec": {
   "display_name": "pa1",
   "language": "python",
   "name": "python3"
  },
  "language_info": {
   "codemirror_mode": {
    "name": "ipython",
    "version": 3
   },
   "file_extension": ".py",
   "mimetype": "text/x-python",
   "name": "python",
   "nbconvert_exporter": "python",
   "pygments_lexer": "ipython3",
   "version": "3.12.3"
  }
 },
 "nbformat": 4,
 "nbformat_minor": 5
}
